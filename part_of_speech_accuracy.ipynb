{
  "nbformat": 4,
  "nbformat_minor": 0,
  "metadata": {
    "colab": {
      "name": "part_of_speech_accuracy.ipynb",
      "provenance": [],
      "authorship_tag": "ABX9TyO8l3N6UPCS48vRxosCCWRh",
      "include_colab_link": true
    },
    "kernelspec": {
      "name": "python3",
      "display_name": "Python 3"
    },
    "language_info": {
      "name": "python"
    }
  },
  "cells": [
    {
      "cell_type": "markdown",
      "metadata": {
        "id": "view-in-github",
        "colab_type": "text"
      },
      "source": [
        "<a href=\"https://colab.research.google.com/github/VGokulPillai/Knowledge-Graph-Implementation_Dissertation-/blob/main/part_of_speech_accuracy.ipynb\" target=\"_parent\"><img src=\"https://colab.research.google.com/assets/colab-badge.svg\" alt=\"Open In Colab\"/></a>"
      ]
    },
    {
      "cell_type": "code",
      "execution_count": 5,
      "metadata": {
        "colab": {
          "base_uri": "https://localhost:8080/"
        },
        "id": "GN3Com7xoX9f",
        "outputId": "9f1be4bb-e5d5-4302-e26b-3e5aa13e8551"
      },
      "outputs": [
        {
          "output_type": "stream",
          "name": "stderr",
          "text": [
            "[nltk_data] Downloading package stopwords to /root/nltk_data...\n",
            "[nltk_data]   Package stopwords is already up-to-date!\n",
            "[nltk_data] Downloading package punkt to /root/nltk_data...\n",
            "[nltk_data]   Package punkt is already up-to-date!\n",
            "[nltk_data] Downloading package averaged_perceptron_tagger to\n",
            "[nltk_data]     /root/nltk_data...\n",
            "[nltk_data]   Unzipping taggers/averaged_perceptron_tagger.zip.\n"
          ]
        },
        {
          "output_type": "stream",
          "name": "stdout",
          "text": [
            "[('I', 'PRP'), ('heading', 'VBG'), ('towards', 'NNS'), ('North', 'NNP'), ('.', '.')]\n"
          ]
        }
      ],
      "source": [
        "import nltk\n",
        "import nltk\n",
        "from nltk.corpus import stopwords\n",
        "from nltk.tokenize import word_tokenize, sent_tokenize\n",
        "nltk.download('stopwords')\n",
        "nltk.download('punkt')\n",
        "nltk.download('averaged_perceptron_tagger')\n",
        "\n",
        "stop_words = set(stopwords.words('english'))\n",
        " \n",
        "\n",
        "txt = \"I was heading towards North.\"\n",
        " \n",
        "# sent_tokenize is one of instances of\n",
        "# PunktSentenceTokenizer from the nltk.tokenize.punkt module\n",
        " \n",
        "tokenized = sent_tokenize(txt)\n",
        "for i in tokenized:\n",
        "     \n",
        "    # Word tokenizers is used to find the words\n",
        "    # and punctuation in a string\n",
        "    wordsList = nltk.word_tokenize(i)\n",
        " \n",
        "    # removing stop words from wordList\n",
        "    wordsList = [w for w in wordsList if not w in stop_words]\n",
        " \n",
        "    #  Using a Tagger. Which is part-of-speech\n",
        "    # tagger or POS-tagger.\n",
        "    tagged = nltk.pos_tag(wordsList)\n",
        " \n",
        "    print(tagged)"
      ]
    },
    {
      "cell_type": "code",
      "source": [
        "import spacy\n",
        "\n",
        "nlp = spacy.load(\"en_core_web_sm\")\n",
        "print(\"Pipeline:\", nlp.pipe_names)\n",
        "doc = nlp(\"I was heading towards North.\")\n",
        "for token in doc:  \n",
        "    print(token.text)\n",
        "    print(token.morph)   ## Printing all the morphological features.\n",
        "    print(token.morph.get(\"Number\"))   ## Printing a particular type of morphological \n",
        "                                       ## features such as Number(Singular or plural).\n",
        "    print(token.morph.to_dict())       ## Prining the morphological features in dictionary format.\n",
        "    print('\\n\\n')"
      ],
      "metadata": {
        "colab": {
          "base_uri": "https://localhost:8080/"
        },
        "id": "tny2rycyoif5",
        "outputId": "d4a26d0d-6ae6-46bc-ed8b-d323d35b2643"
      },
      "execution_count": 6,
      "outputs": [
        {
          "output_type": "stream",
          "name": "stdout",
          "text": [
            "Pipeline: ['tok2vec', 'tagger', 'parser', 'attribute_ruler', 'lemmatizer', 'ner']\n",
            "I\n",
            "Case=Nom|Number=Sing|Person=1|PronType=Prs\n",
            "['Sing']\n",
            "{'Case': 'Nom', 'Number': 'Sing', 'Person': '1', 'PronType': 'Prs'}\n",
            "\n",
            "\n",
            "\n",
            "was\n",
            "Mood=Ind|Number=Sing|Person=3|Tense=Past|VerbForm=Fin\n",
            "['Sing']\n",
            "{'Mood': 'Ind', 'Number': 'Sing', 'Person': '3', 'Tense': 'Past', 'VerbForm': 'Fin'}\n",
            "\n",
            "\n",
            "\n",
            "heading\n",
            "Aspect=Prog|Tense=Pres|VerbForm=Part\n",
            "[]\n",
            "{'Aspect': 'Prog', 'Tense': 'Pres', 'VerbForm': 'Part'}\n",
            "\n",
            "\n",
            "\n",
            "towards\n",
            "\n",
            "[]\n",
            "{}\n",
            "\n",
            "\n",
            "\n",
            "North\n",
            "Number=Sing\n",
            "['Sing']\n",
            "{'Number': 'Sing'}\n",
            "\n",
            "\n",
            "\n",
            ".\n",
            "PunctType=Peri\n",
            "[]\n",
            "{'PunctType': 'Peri'}\n",
            "\n",
            "\n",
            "\n"
          ]
        }
      ]
    }
  ]
}